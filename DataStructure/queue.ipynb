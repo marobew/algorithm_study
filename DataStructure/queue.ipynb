{
 "nbformat": 4,
 "nbformat_minor": 2,
 "metadata": {
  "language_info": {
   "name": "python",
   "codemirror_mode": {
    "name": "ipython",
    "version": 3
   },
   "version": "3.8.1-final"
  },
  "orig_nbformat": 2,
  "file_extension": ".py",
  "mimetype": "text/x-python",
  "name": "python",
  "npconvert_exporter": "python",
  "pygments_lexer": "ipython3",
  "version": 3,
  "kernelspec": {
   "name": "python3",
   "display_name": "Python 3"
  }
 },
 "cells": [
  {
   "cell_type": "markdown",
   "metadata": {},
   "source": [
    "# 대표적인 데이터 구조: 큐(Queue)\n",
    "## 1. 큐 구조\n",
    "- 가장 먼저 넣은 데이터를 가장 먼저 꺼낼 수 있는 구조\n",
    "    - 음식점에서 가장 먼저 줄을 선 사람이 제일 먼저 음식점에 입장하는 것과 동일!\n",
    "    - FIFO(First-In, First-Out) 또는 LILO(Last-In, Last-Out) 방식으로 스택과 꺼내는 순서가 반대\n",
    "    \n",
    "<img src=\"https://www.fun-coding.org/00_Images/queue.png\" />"
   ]
  },
  {
   "cell_type": "markdown",
   "metadata": {},
   "source": [
    "## 2. 알아둘 용어\n",
    "- Enqueue : 큐에 데이터를 넣는 기능\n",
    "- Dequeue : 큐에서 데이터를 꺼내는 기능 \n",
    "- 실습 사이트 [[visualgo]](https://visualgo.net/en/list)"
   ]
  },
  {
   "cell_type": "markdown",
   "metadata": {},
   "source": [
    "## 3. 파이썬 queue 라이브러리 활용해서 큐 자료구조 사용하기\n",
    "- queue 라이브러리에는 다양한 큐 구조로 Queue(), LifoQueue(), PriorityQueue() 제공\n",
    "- 프로그램을 작성할 때 프로그램에 따라 적합한 자료구조를 사용\n",
    "    - Queue(): 가장 일반적인 큐 자료구조\n",
    "    - LifoQueue(): 나중에 입력된 데이터가 먼저 출력되는 구조(스택 구조라고 보면 됨!)\n",
    "    - PriorityQueue(): 데이터마다 우선순위를 넣어서, 우선순위가 높은 순으로 데이터 출력\n",
    "    \n",
    "> 일반적인 큐 외에 다양한 정책이 적용된 큐들이 있음"
   ]
  },
  {
   "cell_type": "markdown",
   "metadata": {},
   "source": [
    "### 3.1 Queue()로 큐 만들기(가장 일반적인 큐, FIFO(First-In, First-Out))"
   ]
  },
  {
   "cell_type": "code",
   "execution_count": 1,
   "metadata": {},
   "outputs": [],
   "source": [
    "import queue    # 큐 라이브러리 가져오기\n",
    "\n",
    "data_queue = queue.Queue()  # 큐 생성, Queue 클래스 가져오기\n",
    "\n",
    "data_queue.put(\"Boram\") # 큐에 값 집어넣기\n",
    "data_queue.put(24)"
   ]
  },
  {
   "cell_type": "code",
   "execution_count": 2,
   "metadata": {},
   "outputs": [
    {
     "output_type": "execute_result",
     "data": {
      "text/plain": "2"
     },
     "metadata": {},
     "execution_count": 2
    }
   ],
   "source": [
    "data_queue.qsize()  # 큐의 크기"
   ]
  },
  {
   "cell_type": "code",
   "execution_count": 3,
   "metadata": {},
   "outputs": [
    {
     "output_type": "execute_result",
     "data": {
      "text/plain": "'Boram'"
     },
     "metadata": {},
     "execution_count": 3
    }
   ],
   "source": [
    "data_queue.get()"
   ]
  },
  {
   "cell_type": "code",
   "execution_count": 4,
   "metadata": {},
   "outputs": [
    {
     "output_type": "execute_result",
     "data": {
      "text/plain": "1"
     },
     "metadata": {},
     "execution_count": 4
    }
   ],
   "source": [
    "data_queue.qsize() # \"Boram\"이 빠져 나왔음으로 크기는 1이 된다"
   ]
  },
  {
   "cell_type": "markdown",
   "metadata": {},
   "source": [
    "### 3.2 LifoQueue()로 큐 만들기(LIFO(Last-In, First-Out))"
   ]
  },
  {
   "cell_type": "code",
   "execution_count": 5,
   "metadata": {},
   "outputs": [],
   "source": [
    "import queue\n",
    "\n",
    "data_queue = queue.LifoQueue()\n",
    "\n",
    "data_queue.put(\"Boram\")\n",
    "data_queue.put(\"We\")\n",
    "data_queue.put(24)"
   ]
  },
  {
   "cell_type": "code",
   "execution_count": 6,
   "metadata": {},
   "outputs": [
    {
     "output_type": "execute_result",
     "data": {
      "text/plain": "3"
     },
     "metadata": {},
     "execution_count": 6
    }
   ],
   "source": [
    "data_queue.qsize()"
   ]
  },
  {
   "cell_type": "code",
   "execution_count": 7,
   "metadata": {},
   "outputs": [
    {
     "output_type": "execute_result",
     "data": {
      "text/plain": "24"
     },
     "metadata": {},
     "execution_count": 7
    }
   ],
   "source": [
    "data_queue.get()"
   ]
  },
  {
   "cell_type": "code",
   "execution_count": 8,
   "metadata": {},
   "outputs": [
    {
     "output_type": "execute_result",
     "data": {
      "text/plain": "'We'"
     },
     "metadata": {},
     "execution_count": 8
    }
   ],
   "source": [
    "data_queue.get()"
   ]
  },
  {
   "cell_type": "markdown",
   "metadata": {},
   "source": [
    "### 3.3 PriorityQueue()로 큐 만들기"
   ]
  },
  {
   "cell_type": "code",
   "execution_count": 9,
   "metadata": {},
   "outputs": [],
   "source": [
    "import queue\n",
    "\n",
    "data_queue = queue.PriorityQueue()\n",
    "\n",
    "data_queue.put((10, \"Boram\"))   # 튜플로 (우선순위, 데이터) 집어넣기\n",
    "data_queue.put((5, \"Jae\"))      # 숫자가 낮을수록 우선순위가 높다\n",
    "data_queue.put((15, 24))"
   ]
  },
  {
   "cell_type": "code",
   "execution_count": 11,
   "metadata": {},
   "outputs": [
    {
     "output_type": "execute_result",
     "data": {
      "text/plain": "3"
     },
     "metadata": {},
     "execution_count": 11
    }
   ],
   "source": [
    "data_queue.qsize()"
   ]
  },
  {
   "cell_type": "code",
   "execution_count": 12,
   "metadata": {},
   "outputs": [
    {
     "output_type": "execute_result",
     "data": {
      "text/plain": "(5, 'Jae')"
     },
     "metadata": {},
     "execution_count": 12
    }
   ],
   "source": [
    "data_queue.get()"
   ]
  },
  {
   "cell_type": "code",
   "execution_count": 13,
   "metadata": {},
   "outputs": [
    {
     "output_type": "execute_result",
     "data": {
      "text/plain": "(10, 'Boram')"
     },
     "metadata": {},
     "execution_count": 13
    }
   ],
   "source": [
    "data_queue.get()"
   ]
  },
  {
   "cell_type": "markdown",
   "metadata": {},
   "source": [
    "### 참고: 어디에 큐가 많이 쓰일까?\n",
    "- 멀티 태스킹을 위한 프로세스 스케쥴링 방식을 구현하기 위해 많이 사용됨(운영체제)\n",
    "> 큐의 경우에는 장단점 보다는(특별히 언급되는 장단점이 없음), 큐의 활용 예로 프로세스 스케쥴링 방식을 함께 이해해두는 것이 좋음!"
   ]
  },
  {
   "cell_type": "markdown",
   "metadata": {},
   "source": [
    "## 4. 프로그래밍 연습\n",
    "#### 연습1: 리스트 변수로 큐를 다루는 enqueue, dequeue 기능 구현해보기"
   ]
  },
  {
   "cell_type": "code",
   "execution_count": 14,
   "metadata": {},
   "outputs": [],
   "source": [
    "queue_list = list()\n",
    "\n",
    "def enqueue(data):\n",
    "    queue_list.append(data)\n",
    "\n",
    "def dequeue():\n",
    "    data = queue_list[0]\n",
    "    del queue_list[0]   # 추출한 값 삭제\n",
    "    return data"
   ]
  },
  {
   "cell_type": "code",
   "execution_count": 15,
   "metadata": {},
   "outputs": [
    {
     "output_type": "execute_result",
     "data": {
      "text/plain": "10"
     },
     "metadata": {},
     "execution_count": 15
    }
   ],
   "source": [
    "# 기능 테스트\n",
    "for index in range(10):\n",
    "    enqueue(index)\n",
    "\n",
    "len(queue_list)"
   ]
  },
  {
   "cell_type": "code",
   "execution_count": 16,
   "metadata": {},
   "outputs": [
    {
     "output_type": "execute_result",
     "data": {
      "text/plain": "0"
     },
     "metadata": {},
     "execution_count": 16
    }
   ],
   "source": [
    "dequeue()"
   ]
  },
  {
   "cell_type": "code",
   "execution_count": 17,
   "metadata": {},
   "outputs": [
    {
     "output_type": "execute_result",
     "data": {
      "text/plain": "1"
     },
     "metadata": {},
     "execution_count": 17
    }
   ],
   "source": [
    "dequeue()"
   ]
  }
 ]
}