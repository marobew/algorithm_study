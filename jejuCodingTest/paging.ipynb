{
 "cells": [
  {
   "cell_type": "markdown",
   "metadata": {},
   "source": [
    "# 페이지 교체 알고리즘\n",
    "\n",
    " 페이징 기법으로 메모리를 관리하는 운영체제에서, 페이지 부재가 발생 하여 새로운 페이지를 할당하기 위해 현재 할당된 페이지 중 어느 것과 교체할지를 결정하는 방법이다. 이 알고리즘이 사용되는 시기는 페이지 부재가 발생해 새로운 페이지를 적재 해야하나 페이지를 적재할 공간이 없어 이미 적재되어 있는 페이지 중 교체할 페이지를 정할 때 사용된다. 빈 페이지가 없는 상황에서 메모리에 적재된 페이지와 적재할 페이지를 교체함으로 페이지 부재 문제를 해결할 수 있다.\n",
    "\n",
    "페이지 교체 알고리즘은 온라인 알고리즘의 일종이다.\n",
    "\n",
    "단점으로는 TimeStamping에 의한 overhead가 존재한다는 점이다\n",
    "\n",
    "출처 : [https://ko.wikipedia.org/wiki/페이지_교체_알고리즘](https://ko.wikipedia.org/wiki/%ED%8E%98%EC%9D%B4%EC%A7%80_%EA%B5%90%EC%B2%B4_%EC%95%8C%EA%B3%A0%EB%A6%AC%EC%A6%98) \n",
    "\n",
    "# 페이징 기법 (Paging)\n",
    "\n",
    "컴퓨터가 메인 메모리에서 사용하기 위해 2차 기억 장치로부터 데이터를 저장하고 검색하는 메모리 관리 기법이다. 즉 가상기억장치를 모두 같은 크기의 블록으로 편성하여 운용하는 기법이다. 이때의 일정한 크기를 가진 블록을 페이지(page)라고 한다. 주소공간을 페이지 단위로 나누고 실제기억공간은 페이지 크기와 같은 프레임으로 나누어 사용한다. \n",
    "\n",
    "# 종류\n",
    "\n",
    "### FIFO 알고리즘 (First-in First out)\n",
    "\n",
    "주 기억장치에 적재될 때마다 순서를 기억해서 가장 먼저 들어온 페이지가 후에 들어오는 페이지와 교체 하는 기법이다.\n",
    "\n",
    "### OPT 알고리즘 (Optimal)\n",
    "\n",
    "페이지 부재가 발생했을 경우 각 페이지 호출순서에 따라 사용하지 않을 페이지를 교체하는 기법이다.\n",
    "\n",
    "### LRU 알고리즘 (Least-Recently-Used)\n",
    "\n",
    "페이지 부재가 발생했을 경우 최근 가장 오랫동안 사용되지 않은 페이지를 제거하는 알고리즘이다."
   ]
  }
 ],
 "metadata": {
  "language_info": {
   "codemirror_mode": {
    "name": "ipython",
    "version": 3
   },
   "file_extension": ".py",
   "mimetype": "text/x-python",
   "name": "python",
   "nbconvert_exporter": "python",
   "pygments_lexer": "ipython3",
   "version": 3
  },
  "orig_nbformat": 2
 },
 "nbformat": 4,
 "nbformat_minor": 2
}