{
 "cells": [
  {
   "cell_type": "markdown",
   "metadata": {},
   "source": [
    "# 스택의 정의\n",
    "\n",
    "- **스택**(stack)은 제한적으로 접근할 수 있는 나열 구조이다. 그 접근 방법은 언제나 목록의 끝에서만 일어난다. 끝먼저내기 목록(Pushdown list)이라고도 한다.\n",
    "- 스택은 한 쪽 끝에서만 자료를 넣거나 뺄 수 있는 선형 구조(LIFO - Last In First Out)으로 되어 있다. 자료를 넣는 것을 '밀어넣는다' 하여 **푸쉬**(push)라고 하고 반대로 넣어둔 자료를 꺼내는 것을 **팝**(pop)이라고 하는데, 이때 꺼내지는 자료는 가장 최근에 푸쉬한 자료부터 나오게 된다. \n",
    "이처럼 나중에 넣은 값이 먼저 나오는 것을 [LIFO](https://ko.wikipedia.org/wiki/LIFO) 구조라고 한다.\n",
    "- 스택이 비었다면 1을 반환하고,그렇지 않다면 0을 반환한다.\n",
    "\n",
    "## 스택의 연산\n",
    "\n",
    "- top() : 스택의 가장 윗 데이터를 반환한다.\n",
    "- pop() : 스택의 가장 윗 데이터를 삭제한다\n",
    "- push() : 스택의 가장 윗 데이터로 top이 가리키는 자리 위에(top = top + 1) 메모리를 생성, 데이터 x를 넣는다.\n",
    "- is_empty() : 스택이 비었다면 True 를 반환하고,그렇지 않다면 False 를 반환한다.\n",
    "\n",
    "    출처 : [https://ko.wikipedia.org/wiki/스택](https://ko.wikipedia.org/wiki/%EC%8A%A4%ED%83%9D)\n",
    "\n",
    "```python\n",
    "class Stack(list) : \n",
    "\t\tpush = list.append\n",
    "\t\tpop = list.pop\n",
    "\n",
    "\t\tdef is_empty(self) :\n",
    "\t\t\t\tif not self :\n",
    "\t\t\t\t\t\treturn True\n",
    "\t\t\t\telse :\n",
    "\t\t\t\t\t\treturn False\n",
    "\n",
    "stack = Stack()\n",
    "stack.push(1)\n",
    "print(\"stack\", stack)\n",
    "stack.push(2)\n",
    "print(\"stack\", stack)\n",
    "stack.push(3)\n",
    "print(\"stack\", stack)\n",
    "stack.pop()\n",
    "print(\"stack\", stack)\n",
    "```\n",
    "\n",
    "```python\n",
    "Out[-]\n",
    "\n",
    "stack [1]\n",
    "stack [1,2]\n",
    "stack [1,2,3]\n",
    "stack [1,2]\n",
    "```"
   ]
  }
 ],
 "metadata": {
  "language_info": {
   "codemirror_mode": {
    "name": "ipython",
    "version": 3
   },
   "file_extension": ".py",
   "mimetype": "text/x-python",
   "name": "python",
   "nbconvert_exporter": "python",
   "pygments_lexer": "ipython3",
   "version": 3
  },
  "orig_nbformat": 2
 },
 "nbformat": 4,
 "nbformat_minor": 2
}