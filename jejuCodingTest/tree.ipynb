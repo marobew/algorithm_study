{
 "cells": [
  {
   "cell_type": "markdown",
   "metadata": {},
   "source": [
    "# 트리 (Tree) 구조\n",
    "\n",
    "**트리 구조**(나무구조)란 그래프의 일종으로, 여러 노드가 한 노드를 가리킬 수 없는 구조이다. 간단하게는 회로가 없고, 서로 다른 두 노드를 잇는 길이 하나뿐인 그래프를 트리라고 부른다.\n",
    "\n",
    "주로 이진 트리 (Binary Tree) 형태 구조로 많이 사용되고, **탐색 알고리즘** 구현에 많이 사용된다.\n",
    "\n",
    "출처 : [https://ko.wikipedia.org/wiki/트리_구조](https://ko.wikipedia.org/wiki/%ED%8A%B8%EB%A6%AC_%EA%B5%AC%EC%A1%B0)\n",
    "\n",
    "# 트리 용어\n",
    "\n",
    "- Node : 트리에서 데이터를 가지고 있는 기본 요소\n",
    "- Root Node (뿌리 노드) :  트리에서 가장 위에 있는 노드\n",
    "- Parent Node (부모 노드) : 한 노드에 연결된 이전 노드\n",
    "- Child Node (자식 노드)  : 한 노드에 연결된 상위 Level의 노드\n",
    "- Leaf Node (Terminal Node)  : Child Node가 없는 노드\n",
    "- Sibling (형제) : 같은 Parent Node를 가진 노드\n",
    "- Level : 노드의 깊이를 나타낸다. 가장 위에 위치한 노드를 Level 0으로 하고 하위 Branch로 내려갈 수 록 Level이 올라간다.\n",
    "- Depth (깊이) : 한 트리에서 가질 수 있는 Level\n",
    "\n",
    "# 그래프와 트리\n",
    "\n",
    "트리는 그래프의 일종이라고 앞에서 언급했다. 그러면 차이점은 뭘까?\n",
    "- 그래프는 순환을 한다는 차이점이 있다."
   ]
  }
 ],
 "metadata": {
  "language_info": {
   "codemirror_mode": {
    "name": "ipython",
    "version": 3
   },
   "file_extension": ".py",
   "mimetype": "text/x-python",
   "name": "python",
   "nbconvert_exporter": "python",
   "pygments_lexer": "ipython3",
   "version": 3
  },
  "orig_nbformat": 2
 },
 "nbformat": 4,
 "nbformat_minor": 2
}